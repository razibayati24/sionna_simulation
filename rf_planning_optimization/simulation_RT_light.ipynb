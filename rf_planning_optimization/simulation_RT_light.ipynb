{
 "cells": [
  {
   "cell_type": "markdown",
   "metadata": {
    "application/vnd.databricks.v1+cell": {
     "cellMetadata": {},
     "inputWidgets": {},
     "nuid": "b551afcd-1f9f-4695-a682-e73a2f8418b6",
     "showTitle": false,
     "tableResultSettingsMap": {},
     "title": ""
    }
   },
   "source": [
    "# Coverage simulation in Arc de Triomphe in Paris\n",
    "\n",
    "\n",
    "<img src=\"Screenshot 2025-03-24 at 7.52.38 PM.png\" alt=\"drawing\" width=\"500\"/>\n",
    "\n",
    "Credit Sionna RT: The scene was created with data downloaded from [OpenStreetMap](https://www.openstreetmap.org/) and the help of [Blender](https://www.blender.org/) and the [Blender-OSM](https://github.com/vvoovv/blender-osm) and [Mitsuba Blender](https://github.com/mitsuba-renderer/mitsuba-blender) add-ons. The data is licensed under [the Open Data Commons Open Database License (ODbL)](https://openstreetmap.org/copyright).\n",
    "\n",
    "this is a tutotial adopted from: https://colab.research.google.com/github/nvlabs/sionna-rt/blob/main/tutorials/Radio-Maps.ipynb#scrollTo=7BEQgaFJbcJ1 "
   ]
  },
  {
   "cell_type": "markdown",
   "metadata": {
    "application/vnd.databricks.v1+cell": {
     "cellMetadata": {},
     "inputWidgets": {},
     "nuid": "2a6eb080-9226-4702-a8f1-718eee3fe525",
     "showTitle": false,
     "tableResultSettingsMap": {},
     "title": ""
    }
   },
   "source": [
    "## usecase\n",
    "\n",
    "**Role name: ** RF optimization engineers. \n",
    "\n",
    "**Proejct:** \n",
    "In telco providers, there are multiple RF planning and optimization teams that plan, implement and test changes in RF network. \n",
    "\n",
    "Change variables can be: \n",
    "- antenna location\n",
    "- antenna height\n",
    "- antenna array system\n",
    "- antenna orientation(tilt and azimuth) \n",
    "- Tx power\n",
    "\n",
    "In this simulation we simulate the effect of upgrading antenna array systems of the network from config 1 to config 2 in 28GHz. \n",
    "- Config 1: transmitter: [8x2 UPA], user: [2x2 UPA]\n",
    "- Config 2: transmitter: [16x16 UPA], user: [2x2 UPA]\n",
    "\n",
    "UPA: uniform planar array "
   ]
  },
  {
   "cell_type": "code",
   "execution_count": 0,
   "metadata": {
    "application/vnd.databricks.v1+cell": {
     "cellMetadata": {
      "byteLimit": 2048000,
      "rowLimit": 10000
     },
     "inputWidgets": {},
     "nuid": "8b7f25f5-4305-4982-a3b6-70eb6b80ce03",
     "showTitle": true,
     "tableResultSettingsMap": {},
     "title": "installing drjit"
    }
   },
   "outputs": [],
   "source": [
    "%python\n",
    "# Install the required packages\n",
    "%pip install drjit mitsuba sionna-rt"
   ]
  },
  {
   "cell_type": "code",
   "execution_count": 0,
   "metadata": {
    "application/vnd.databricks.v1+cell": {
     "cellMetadata": {
      "byteLimit": 2048000,
      "rowLimit": 10000
     },
     "inputWidgets": {},
     "nuid": "d45ff08e-3192-43e7-b70d-d4d93978d97b",
     "showTitle": true,
     "tableResultSettingsMap": {},
     "title": "importing libraries"
    }
   },
   "outputs": [],
   "source": [
    "import numpy as np\n",
    "import drjit as dr\n",
    "import mitsuba as mi\n",
    "import matplotlib as mpl\n",
    "import matplotlib.pyplot as plt\n",
    "from matplotlib import colormaps\n",
    "\n",
    "# Import or install Sionna\n",
    "try:\n",
    "    import sionna.rt\n",
    "except ImportError as e:\n",
    "    import os\n",
    "    os.system(\"pip install sionna-rt\")\n",
    "    import sionna.rt\n",
    "\n",
    "from sionna.rt import LambertianPattern, DirectivePattern, BackscatteringPattern,\\\n",
    "                      load_scene, Camera, Transmitter, Receiver, PlanarArray,\\\n",
    "                      PathSolver, RadioMapSolver, cpx_abs, cpx_convert\n",
    "\n",
    "no_preview = True # Toggle to False to use the preview widget\n",
    "                  # instead of rendering for scene visualization\n",
    "\n",
    "\n",
    "from sionna.rt import load_scene, PlanarArray, Transmitter, Receiver, Camera, watt_to_dbm,\\\n",
    "                      RadioMapSolver, PathSolver"
   ]
  },
  {
   "cell_type": "markdown",
   "metadata": {
    "application/vnd.databricks.v1+cell": {
     "cellMetadata": {},
     "inputWidgets": {},
     "nuid": "466ac31f-ed1d-4c05-8424-8033b090e0cf",
     "showTitle": false,
     "tableResultSettingsMap": {},
     "title": ""
    }
   },
   "source": [
    "In both scnarios these variables are fixed\n",
    "\n",
    "- we have 7 cells \n",
    "- 50 users per cell\n",
    "- fixed antenna location (specified below)\n",
    "- fixed antenna height (specified below)\n",
    "- fixed antenna power (specified below)\n",
    "- fixed antenna orientation (specified below)\n",
    "- fixed bandwidth 100 MHz (specified below)\n",
    "- fixed carrier frequency 28 GHz (specified below)\n",
    "\n",
    "\n",
    "\n",
    " "
   ]
  },
  {
   "cell_type": "code",
   "execution_count": 0,
   "metadata": {
    "application/vnd.databricks.v1+cell": {
     "cellMetadata": {
      "byteLimit": 2048000,
      "rowLimit": 10000
     },
     "inputWidgets": {},
     "nuid": "eb382e82-bbf3-4760-be8f-76b0d0d36fa6",
     "showTitle": true,
     "tableResultSettingsMap": {},
     "title": "scene settings"
    }
   },
   "outputs": [],
   "source": [
    "class SceneConfiguration:\n",
    "  def __init__(self, num_rows_tx, num_cols_tx, num_rows_rx, num_cols_rx):\n",
    "        self.num_rows_tx = num_rows_tx\n",
    "        self.num_cols_tx = num_cols_tx\n",
    "        self.num_rows_rx = num_rows_rx\n",
    "        self.num_cols_rx = num_cols_rx\n",
    "        # Place transmitters\n",
    "        self.positions = np.array( #lat, long, height\n",
    "                  [[-150.3, 21.63, 42.5],\n",
    "                    [-125.1, 9.58, 42.5],\n",
    "                    [-104.5, 54.94, 42.5],\n",
    "                    [-128.6, 66.73, 42.5],\n",
    "                    [172.1, 103.7, 24],\n",
    "                    [232.8, -95.5, 17],\n",
    "                    [80.1, 193.8, 21]\n",
    "                  ])\n",
    "        self.look_ats = np.array( #orientation\n",
    "                  [[-216, -21,0],\n",
    "                  [-90, -80, 0],\n",
    "                  [-16.5, 75.8, 0],\n",
    "                  [-164, 153.7, 0],\n",
    "                  [247, 92, 0],\n",
    "                  [211, -180, 0],\n",
    "                  [126.3, 194.7, 0]\n",
    "                  ])\n",
    "        self.power_dbms = [23, 23, 23, 23, 23, 23, 23] #power\n",
    "\n",
    "  def config_scene(self):\n",
    "      \"\"\"Load and configure a scene\"\"\"\n",
    "      scene = load_scene(sionna.rt.scene.etoile)\n",
    "      scene.bandwidth=100e6\n",
    "      scene.frequency = 2.8e9\n",
    "\n",
    "      # Configure antenna arrays for all transmitters and receivers\n",
    "      scene.tx_array = PlanarArray(num_rows=self.num_rows_tx,\n",
    "                                  num_cols=self.num_cols_tx,\n",
    "                                  pattern=\"tr38901\",\n",
    "                                  polarization=\"V\")\n",
    "\n",
    "      scene.rx_array = PlanarArray(num_rows=self.num_rows_rx,\n",
    "                                  num_cols=self.num_cols_rx,\n",
    "                                  pattern=\"tr38901\",\n",
    "                                  polarization=\"V\")\n",
    "\n",
    "\n",
    "\n",
    "      for i, position in enumerate(self.positions):\n",
    "          scene.add(Transmitter(name=f'tx{i}',\n",
    "                                position=position,\n",
    "                                look_at=self.look_ats[i],\n",
    "                                power_dbm=self.power_dbms[i]))\n",
    "\n",
    "      return scene"
   ]
  },
  {
   "cell_type": "markdown",
   "metadata": {
    "application/vnd.databricks.v1+cell": {
     "cellMetadata": {},
     "inputWidgets": {},
     "nuid": "4d22a2a8-44f2-40d2-b8e1-02200fe1668e",
     "showTitle": false,
     "tableResultSettingsMap": {},
     "title": ""
    }
   },
   "source": [
    "## Config 1\n",
    "\n",
    "We have a cell transmitter with [8x2 UPA] and user cellphone with [2x2 UPA]. It means antenna array system of transmitter has 16 components arranged in 8 by 2 rectangular shape, and antenna array system of Cell phone has 4 components arranged in 2 by 2 square shape. \n",
    "\n",
    "<img src=\"./Screenshot 2025-03-24 at 7.37.02 PM.png\" alt=\"Config 1\" width=\"300\"/>"
   ]
  },
  {
   "cell_type": "code",
   "execution_count": 0,
   "metadata": {
    "application/vnd.databricks.v1+cell": {
     "cellMetadata": {},
     "inputWidgets": {},
     "nuid": "e9adb036-627d-43a3-b34f-aca157293788",
     "showTitle": true,
     "tableResultSettingsMap": {},
     "title": "compute radio map"
    }
   },
   "outputs": [],
   "source": [
    "\n",
    "rm_solver = RadioMapSolver()\n",
    "\n",
    "# Load and configure scene\n",
    "scene_config = SceneConfiguration(num_rows_tx=16, num_cols_tx=16, num_rows_rx=2, num_cols_rx=2)\n",
    "scene = scene_config.config_scene()\n",
    "# Compute the SINR map\n",
    "rm_etoile = rm_solver(scene,\n",
    "                      max_depth=5,\n",
    "                      samples_per_tx=10**7,\n",
    "                      cell_size=(1, 1))"
   ]
  }
 ],
 "metadata": {
  "application/vnd.databricks.v1+notebook": {
   "computePreferences": null,
   "dashboards": [],
   "environmentMetadata": {
    "base_environment": "",
    "environment_version": "2"
   },
   "language": "python",
   "notebookMetadata": {
    "pythonIndentUnit": 2
   },
   "notebookName": "simulation_RT_light",
   "widgets": {}
  },
  "language_info": {
   "name": "python"
  }
 },
 "nbformat": 4,
 "nbformat_minor": 0
}
