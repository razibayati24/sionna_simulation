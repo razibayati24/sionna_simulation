{
 "cells": [
  {
   "cell_type": "markdown",
   "metadata": {
    "application/vnd.databricks.v1+cell": {
     "cellMetadata": {},
     "inputWidgets": {},
     "nuid": "0d11eec0-ce60-442e-b782-aeb9ef0cfde6",
     "showTitle": false,
     "tableResultSettingsMap": {},
     "title": ""
    }
   },
   "source": [
    "# Summary\n",
    "\n",
    "This notebook showcases a coverage simulation in the Arc de Triomphe area of Paris using Sionna, an open-source library developed by Nvidia for creating digital twins of cellular mobile networks. The simulation focuses on RF optimization, specifically the impact of upgrading antenna array systems from a configuration of 8x2 UPA to 16x16 UPA at 28GHz. The goal is to evaluate improvements in key performance indicators (KPI), such as the cumulative distribution function (CDF) of signal-to-interference-plus-noise ratio (SINR) over received signal strength (RSS). The data used is sourced from OpenStreetMap and visualized with Blender."
   ]
  },
  {
   "cell_type": "markdown",
   "metadata": {
    "application/vnd.databricks.v1+cell": {
     "cellMetadata": {},
     "inputWidgets": {},
     "nuid": "2a6eb080-9226-4702-a8f1-718eee3fe525",
     "showTitle": false,
     "tableResultSettingsMap": {},
     "title": ""
    }
   },
   "source": [
    "## Usecase\n",
    "\n",
    "**Role name:** RF optimization engineers. \n",
    "\n",
    "**Proejct:** \n",
    "In telco providers, there are multiple RF planning and optimization teams that plan, implement and test changes in RF network. They track network demand and proactively or based on customer complaints adjust network capacity/config to meet the demands. \n",
    "\n",
    "Sometime it means installing new tower, adjusting physical configs permanently or temporality to meet the demands. Change variables in a BSS tower can be: \n",
    "- antenna location\n",
    "- antenna height\n",
    "- antenna array system\n",
    "- antenna orientation(tilt and azimuth) \n",
    "- Tx power\n",
    "- Frequency\n",
    "- Bandwidth \n",
    "- Antenna gain \n",
    "- ...\n",
    "\n",
    "Normally they simulate first before affecting outside world, once they have a good understaning of change results, it will be implements in network. This simulation happens in third party software tools that are not open source and have partial view of network. This will reslut in \n",
    "- Suboptimal solution\n",
    "- Expensive siloed processes\n",
    "- Customer dissatisfaction \n",
    "- Increases number of tickets\n",
    "- reactive process \n",
    "\n",
    "\n",
    "\n",
    "In this simulation we use **Sionna** to simulate the effect of upgrading antenna array systems of the network from config 1 to config 2 in 28GHz. \n",
    "\n",
    "- **Config 1: transmitter: [8x2 UPA], user: [2x2 UPA]**\n",
    "- **Config 2: transmitter: [16x16 UPA], user: [2x2 UPA]**\n",
    "\n",
    "to see if our target KPI (in this case CDF of SINR or RSS) gets better or not. (there are many other KPIs and the root complaint identofies which kpi to improve)\n",
    "\n",
    "UPA: uniform planar array \n",
    "\n",
    "\n",
    "\n",
    "\n",
    "Sionna is an open source library developed by Nvidia. Sionna is Nvidia's flagship software for creating **digital twin** of cellular mobile network. \n",
    "This is a very active area of development in Nvidia, they had a releaase in GTC 2025, [last week](https://www.linkedin.com/posts/faycal-ait-aoudia-166320137_6g-wirelesscommunications-sionna-activity-7308044398531956736-Hpj8?utm_source=share&utm_medium=member_desktop&rcm=ACoAABFAqOYBj-sgobPtE8yIpU46ThzZ_zWbPyw )\n",
    "\n",
    "\n",
    "\n"
   ]
  },
  {
   "cell_type": "markdown",
   "metadata": {
    "application/vnd.databricks.v1+cell": {
     "cellMetadata": {},
     "inputWidgets": {},
     "nuid": "b551afcd-1f9f-4695-a682-e73a2f8418b6",
     "showTitle": false,
     "tableResultSettingsMap": {},
     "title": ""
    }
   },
   "source": [
    "# Coverage simulation in Arc de Triomphe in Paris\n",
    "\n",
    "\n",
    "<img src=\"Screenshot 2025-03-24 at 7.52.38 PM.png\" alt=\"drawing\" width=\"500\"/>\n",
    "\n",
    "Credit Sionna RT: The scene was created with data downloaded from [OpenStreetMap](https://www.openstreetmap.org/) and the help of [Blender](https://www.blender.org/) and the [Blender-OSM](https://github.com/vvoovv/blender-osm) and [Mitsuba Blender](https://github.com/mitsuba-renderer/mitsuba-blender) add-ons. The data is licensed under [the Open Data Commons Open Database License (ODbL)](https://openstreetmap.org/copyright).\n",
    "\n",
    "This is a simple showcase adopted from [here](https://colab.research.google.com/github/nvlabs/sionna-rt/blob/main/tutorials/Radio-Maps.ipynb#scrollTo=7BEQgaFJbcJ1) which is a notebook released by Nvidia's 6G research team showcasing Sionna's capabilities. \n",
    "\n",
    "\n"
   ]
  },
  {
   "cell_type": "markdown",
   "metadata": {
    "application/vnd.databricks.v1+cell": {
     "cellMetadata": {},
     "inputWidgets": {},
     "nuid": "466ac31f-ed1d-4c05-8424-8033b090e0cf",
     "showTitle": false,
     "tableResultSettingsMap": {},
     "title": ""
    }
   },
   "source": [
    "Our network is consist of: \n",
    "\n",
    "- we have 7 cells \n",
    "- 50 users per cell\n",
    "- fixed antenna location (specified below)\n",
    "- fixed antenna height (specified below)\n",
    "- fixed antenna power (specified below)\n",
    "- fixed antenna orientation (specified below)\n",
    "- fixed bandwidth 100 MHz (specified below)\n",
    "- fixed carrier frequency 28 GHz (specified below)\n",
    "\n",
    "\n",
    "\n",
    " "
   ]
  },
  {
   "cell_type": "code",
   "execution_count": 0,
   "metadata": {
    "application/vnd.databricks.v1+cell": {
     "cellMetadata": {
      "byteLimit": 2048000,
      "rowLimit": 10000
     },
     "inputWidgets": {},
     "nuid": "8b7f25f5-4305-4982-a3b6-70eb6b80ce03",
     "showTitle": true,
     "tableResultSettingsMap": {},
     "title": "installing libraries"
    }
   },
   "outputs": [],
   "source": [
    "%python\n",
    "# Install the required packages\n",
    "%pip install drjit mitsuba sionna-rt"
   ]
  },
  {
   "cell_type": "code",
   "execution_count": 0,
   "metadata": {
    "application/vnd.databricks.v1+cell": {
     "cellMetadata": {
      "byteLimit": 2048000,
      "rowLimit": 10000
     },
     "inputWidgets": {},
     "nuid": "d45ff08e-3192-43e7-b70d-d4d93978d97b",
     "showTitle": true,
     "tableResultSettingsMap": {},
     "title": "importing libraries"
    }
   },
   "outputs": [],
   "source": [
    "import numpy as np\n",
    "import drjit as dr\n",
    "import mitsuba as mi\n",
    "import matplotlib as mpl\n",
    "import matplotlib.pyplot as plt\n",
    "from matplotlib import colormaps\n",
    "\n",
    "# Import or install Sionna\n",
    "try:\n",
    "    import sionna.rt\n",
    "except ImportError as e:\n",
    "    import os\n",
    "    os.system(\"pip install sionna-rt\")\n",
    "    import sionna.rt\n",
    "\n",
    "from sionna.rt import LambertianPattern, DirectivePattern, BackscatteringPattern,\\\n",
    "                      load_scene, Camera, Transmitter, Receiver, PlanarArray,\\\n",
    "                      PathSolver, RadioMapSolver, cpx_abs, cpx_convert\n",
    "\n",
    "no_preview = True # Toggle to False to use the preview widget\n",
    "                  # instead of rendering for scene visualization\n",
    "\n",
    "\n",
    "from sionna.rt import load_scene, PlanarArray, Transmitter, Receiver, Camera, watt_to_dbm,\\\n",
    "                      RadioMapSolver, PathSolver"
   ]
  },
  {
   "cell_type": "code",
   "execution_count": 0,
   "metadata": {
    "application/vnd.databricks.v1+cell": {
     "cellMetadata": {
      "byteLimit": 2048000,
      "rowLimit": 10000
     },
     "inputWidgets": {},
     "nuid": "eb382e82-bbf3-4760-be8f-76b0d0d36fa6",
     "showTitle": true,
     "tableResultSettingsMap": {},
     "title": "scene settings"
    }
   },
   "outputs": [],
   "source": [
    "class SceneConfiguration:\n",
    "  def __init__(self, num_rows_tx, num_cols_tx, num_rows_rx, num_cols_rx):\n",
    "        self.num_rows_tx = num_rows_tx\n",
    "        self.num_cols_tx = num_cols_tx\n",
    "        self.num_rows_rx = num_rows_rx\n",
    "        self.num_cols_rx = num_cols_rx\n",
    "        # Place transmitters\n",
    "        self.positions = np.array( #lat, long, height\n",
    "                  [[-150.3, 21.63, 42.5],\n",
    "                    [-125.1, 9.58, 42.5],\n",
    "                    [-104.5, 54.94, 42.5],\n",
    "                    [-128.6, 66.73, 42.5],\n",
    "                    [172.1, 103.7, 24],\n",
    "                    [232.8, -95.5, 17],\n",
    "                    [80.1, 193.8, 21]\n",
    "                  ])\n",
    "        self.look_ats = np.array( #orientation\n",
    "                  [[-216, -21,0],\n",
    "                  [-90, -80, 0],\n",
    "                  [-16.5, 75.8, 0],\n",
    "                  [-164, 153.7, 0],\n",
    "                  [247, 92, 0],\n",
    "                  [211, -180, 0],\n",
    "                  [126.3, 194.7, 0]\n",
    "                  ])\n",
    "        self.power_dbms = [23, 23, 23, 23, 23, 23, 23] #power\n",
    "\n",
    "  def config_scene(self):\n",
    "      \"\"\"Load and configure a scene\"\"\"\n",
    "      scene = load_scene(sionna.rt.scene.etoile)\n",
    "      scene.bandwidth=100e6\n",
    "      scene.frequency = 2.8e9\n",
    "\n",
    "      # Configure antenna arrays for all transmitters and receivers\n",
    "      scene.tx_array = PlanarArray(num_rows=self.num_rows_tx,\n",
    "                                  num_cols=self.num_cols_tx,\n",
    "                                  pattern=\"tr38901\",\n",
    "                                  polarization=\"V\")\n",
    "\n",
    "      scene.rx_array = PlanarArray(num_rows=self.num_rows_rx,\n",
    "                                  num_cols=self.num_cols_rx,\n",
    "                                  pattern=\"tr38901\",\n",
    "                                  polarization=\"V\")\n",
    "\n",
    "\n",
    "\n",
    "      for i, position in enumerate(self.positions):\n",
    "          scene.add(Transmitter(name=f'tx{i}',\n",
    "                                position=position,\n",
    "                                look_at=self.look_ats[i],\n",
    "                                power_dbm=self.power_dbms[i]))\n",
    "\n",
    "      return scene"
   ]
  },
  {
   "cell_type": "markdown",
   "metadata": {
    "application/vnd.databricks.v1+cell": {
     "cellMetadata": {},
     "inputWidgets": {},
     "nuid": "4d22a2a8-44f2-40d2-b8e1-02200fe1668e",
     "showTitle": false,
     "tableResultSettingsMap": {},
     "title": ""
    }
   },
   "source": [
    "## Config 1\n",
    "\n",
    "We have a cell transmitter with [8x2 UPA] and user cellphone with [2x2 UPA]. It means antenna array system of transmitter has 16 components arranged in 8 by 2 rectangular shape, and antenna array system of Cell phone has 4 components arranged in 2 by 2 square shape. \n",
    "\n",
    "<img src=\"./Screenshot 2025-03-24 at 7.37.02 PM.png\" alt=\"Config 1\" width=\"300\"/>"
   ]
  },
  {
   "cell_type": "code",
   "execution_count": 0,
   "metadata": {
    "application/vnd.databricks.v1+cell": {
     "cellMetadata": {
      "byteLimit": 2048000,
      "rowLimit": 10000
     },
     "inputWidgets": {},
     "nuid": "e9adb036-627d-43a3-b34f-aca157293788",
     "showTitle": true,
     "tableResultSettingsMap": {},
     "title": "compute radio map for config 1"
    }
   },
   "outputs": [],
   "source": [
    "\n",
    "rm_solver = RadioMapSolver() #solves maxwell's equations for the configured scene\n",
    "\n",
    "# Load and configure scene\n",
    "scene_config1 = SceneConfiguration(num_rows_tx=8, num_cols_tx=2, num_rows_rx=2, num_cols_rx=2)\n",
    "scene1 = scene_config1.config_scene()\n",
    "# Compute the SINR map\n",
    "rm_etoile1 = rm_solver(scene1,\n",
    "                      max_depth=5,\n",
    "                      samples_per_tx=10**7,\n",
    "                      cell_size=(1, 1))"
   ]
  },
  {
   "cell_type": "code",
   "execution_count": 0,
   "metadata": {
    "application/vnd.databricks.v1+cell": {
     "cellMetadata": {
      "byteLimit": 2048000,
      "rowLimit": 10000
     },
     "inputWidgets": {},
     "nuid": "bc1148ad-0a98-4194-b8a1-cde085059084",
     "showTitle": true,
     "tableResultSettingsMap": {},
     "title": "scene and config1 vizalization"
    }
   },
   "outputs": [],
   "source": [
    "if no_preview:\n",
    "    # Render an image\n",
    "    cam = Camera(position=[0,0,1000],\n",
    "                     orientation=np.array([0,np.pi/2,-np.pi/2]))\n",
    "    scene1.render(camera=cam,\n",
    "                        radio_map=rm_etoile1,\n",
    "                        rm_metric=\"sinr\",\n",
    "                        rm_vmin=-10,\n",
    "                        rm_vmax=60, rm_show_color_bar=True);\n",
    "else:\n",
    "    # Show preview\n",
    "    scene1.preview(radio_map=rm_etoile1,\n",
    "                         rm_metric=\"sinr\",\n",
    "                         rm_vmin=-10,\n",
    "                         rm_vmax=70)"
   ]
  },
  {
   "cell_type": "markdown",
   "metadata": {
    "application/vnd.databricks.v1+cell": {
     "cellMetadata": {},
     "inputWidgets": {},
     "nuid": "d50a3ed7-ac73-45d7-b6cf-6bebb95b7b92",
     "showTitle": false,
     "tableResultSettingsMap": {},
     "title": ""
    }
   },
   "source": [
    "With a radio map at hand, we can now sample random positions at which we place receivers and then compute channel impulse responses."
   ]
  },
  {
   "cell_type": "code",
   "execution_count": 0,
   "metadata": {
    "application/vnd.databricks.v1+cell": {
     "cellMetadata": {
      "byteLimit": 2048000,
      "rowLimit": 10000
     },
     "inputWidgets": {},
     "nuid": "9d23dfe4-f43a-4968-abdd-13febdceed48",
     "showTitle": true,
     "tableResultSettingsMap": {},
     "title": "cell coverage and SINR map"
    }
   },
   "outputs": [],
   "source": [
    "rm_etoile1.show_association(\"sinr\");\n",
    "\n",
    "pos, cell_ids = rm_etoile1.sample_positions(\n",
    "          num_pos=50,\n",
    "          metric=\"sinr\",\n",
    "          min_val_db=3,\n",
    "          min_dist=10,\n",
    "          max_dist=200,\n",
    "          tx_association=True)\n",
    "\n",
    "fig = rm_etoile1.show(metric=\"sinr\", vmin = -10, vmax=70);\n",
    "\n",
    "# One criteria for cell selection is to choose the cell with highest SINR. Here is the plot of highest SINR based on the computed radio map\n",
    "# Visualize sampled positions\n",
    "for tx, ids in enumerate(cell_ids.numpy()):\n",
    "    fig.axes[0].plot(ids[:,1], ids[:,0],\n",
    "                     marker='o',\n",
    "                     markersize=2,\n",
    "                     linestyle='',\n",
    "                     color=mpl.colormaps['Dark2'].colors[tx])\n",
    "\n",
    "\n"
   ]
  },
  {
   "cell_type": "markdown",
   "metadata": {
    "application/vnd.databricks.v1+cell": {
     "cellMetadata": {},
     "inputWidgets": {},
     "nuid": "7ac42ec9-3abc-4db2-bcbe-6176d292a351",
     "showTitle": false,
     "tableResultSettingsMap": {},
     "title": ""
    }
   },
   "source": [
    "Cell-to-Tx association plot: shows cell coverage, you can see we have 7 cell coverage in 7 different colors\n",
    "\n",
    "Users are connected to cells with maximum SINR in that location, which is shown in the seconf plot. \n",
    "- brigh green means high SINR (Good)\n",
    "- dark blue means low SINR (Bad)\n",
    "\n",
    "\n",
    " you can see users assigned to each tower in Higherst SINR across all TXs plot"
   ]
  },
  {
   "cell_type": "code",
   "execution_count": 0,
   "metadata": {
    "application/vnd.databricks.v1+cell": {
     "cellMetadata": {
      "byteLimit": 2048000,
      "rowLimit": 10000
     },
     "inputWidgets": {},
     "nuid": "4c8a604a-7bf1-4622-a755-d589b5a23110",
     "showTitle": true,
     "tableResultSettingsMap": {},
     "title": "benchmark KPIs"
    }
   },
   "outputs": [],
   "source": [
    "rm_etoile1.cdf(metric=\"sinr\", bins = 400)\n",
    "plt.xlim(-40, 75)\n",
    "rm_etoile1.cdf(metric=\"rss\", bins = 400)\n",
    "plt.xlim(-150, 25)"
   ]
  },
  {
   "cell_type": "markdown",
   "metadata": {
    "application/vnd.databricks.v1+cell": {
     "cellMetadata": {},
     "inputWidgets": {},
     "nuid": "54b391db-6cb9-4121-8f64-016849d40604",
     "showTitle": false,
     "tableResultSettingsMap": {},
     "title": ""
    }
   },
   "source": [
    "Visualize CDF of received signal strength (RSS), and signal-to-interference-plus-noise ratio.  We will monitor these two KPI for determining if change in network was overally positive and it improved user experince from perspective of SINR and RSS or not."
   ]
  },
  {
   "cell_type": "markdown",
   "metadata": {
    "application/vnd.databricks.v1+cell": {
     "cellMetadata": {},
     "inputWidgets": {},
     "nuid": "5c9cdb52-effe-4283-819b-1a908a8caedf",
     "showTitle": false,
     "tableResultSettingsMap": {},
     "title": ""
    }
   },
   "source": [
    "## Config 2\n",
    "\n",
    "We have a cell transmitter with [8x8 UPA] and user cellphone with [2x2 UPA]. It means antenna array system of transmitter has 16 components arranged in 8 by 8 square shape, and antenna array system of Cell phone has 4 components arranged in 2 by 2 square shape. \n",
    "\n",
    "\n",
    "<img src=\"./Screenshot 2025-03-24 at 8.24.49 PM.png\" alt=\"Config 2\" width=\"300\"/>\n"
   ]
  },
  {
   "cell_type": "code",
   "execution_count": 0,
   "metadata": {
    "application/vnd.databricks.v1+cell": {
     "cellMetadata": {
      "byteLimit": 2048000,
      "rowLimit": 10000
     },
     "inputWidgets": {},
     "nuid": "a9832eaa-32d8-4641-826b-1f4b14dc658b",
     "showTitle": true,
     "tableResultSettingsMap": {},
     "title": "compute radio map for config 2"
    }
   },
   "outputs": [],
   "source": [
    "\n",
    "rm_solver = RadioMapSolver() #solves maxwell's equations for the configured scene\n",
    "\n",
    "# Load and configure scene\n",
    "scene_config2 = SceneConfiguration(num_rows_tx=8, num_cols_tx=8, num_rows_rx=2, num_cols_rx=2)\n",
    "scene2 = scene_config2.config_scene()\n",
    "# Compute the SINR map\n",
    "rm_etoile2 = rm_solver(scene2,\n",
    "                      max_depth=5,\n",
    "                      samples_per_tx=10**7,\n",
    "                      cell_size=(1, 1))"
   ]
  },
  {
   "cell_type": "code",
   "execution_count": 0,
   "metadata": {
    "application/vnd.databricks.v1+cell": {
     "cellMetadata": {
      "byteLimit": 2048000,
      "rowLimit": 10000
     },
     "inputWidgets": {},
     "nuid": "9184a63b-a650-40ae-8d1a-5436877b605e",
     "showTitle": true,
     "tableResultSettingsMap": {},
     "title": "scene and config2 visualization"
    }
   },
   "outputs": [],
   "source": [
    "if no_preview:\n",
    "    # Render an image\n",
    "    cam = Camera(position=[0,0,1000],\n",
    "                     orientation=np.array([0,np.pi/2,-np.pi/2]))\n",
    "    scene2.render(camera=cam,\n",
    "                        radio_map=rm_etoile2,\n",
    "                        rm_metric=\"sinr\",\n",
    "                        rm_vmin=-10,\n",
    "                        rm_vmax=60, rm_show_color_bar=True);\n",
    "else:\n",
    "    # Show preview\n",
    "    scene2.preview(radio_map=rm_etoile2,\n",
    "                         rm_metric=\"sinr\",\n",
    "                         rm_vmin=-10,\n",
    "                         rm_vmax=70)"
   ]
  },
  {
   "cell_type": "markdown",
   "metadata": {
    "application/vnd.databricks.v1+cell": {
     "cellMetadata": {},
     "inputWidgets": {},
     "nuid": "243de7f0-0e02-479e-96c7-dd6ebf44019d",
     "showTitle": false,
     "tableResultSettingsMap": {},
     "title": ""
    }
   },
   "source": [
    "With a radio map at hand, we can now sample random positions at which we place receivers and then compute channel impulse responses."
   ]
  },
  {
   "cell_type": "code",
   "execution_count": 0,
   "metadata": {
    "application/vnd.databricks.v1+cell": {
     "cellMetadata": {
      "byteLimit": 2048000,
      "rowLimit": 10000
     },
     "inputWidgets": {},
     "nuid": "f46343ab-1b56-468f-8706-901a55c46e3d",
     "showTitle": true,
     "tableResultSettingsMap": {},
     "title": "cell coverage and SINR map"
    }
   },
   "outputs": [],
   "source": [
    "rm_etoile2.show_association(\"sinr\");\n",
    "\n",
    "pos, cell_ids = rm_etoile2.sample_positions(\n",
    "          num_pos=50,\n",
    "          metric=\"sinr\",\n",
    "          min_val_db=3,\n",
    "          min_dist=10,\n",
    "          max_dist=200,\n",
    "          tx_association=True)\n",
    "\n",
    "fig = rm_etoile2.show(metric=\"sinr\", vmin = -10, vmax=70);\n",
    "\n",
    "# One criteria for cell selection is to choose the cell with highest SINR. Here is the plot of highest SINR based on the computed radio map\n",
    "# Visualize sampled positions\n",
    "for tx, ids in enumerate(cell_ids.numpy()):\n",
    "    fig.axes[0].plot(ids[:,1], ids[:,0],\n",
    "                     marker='o',\n",
    "                     markersize=2,\n",
    "                     linestyle='',\n",
    "                     color=mpl.colormaps['Dark2'].colors[tx])\n",
    "\n",
    "\n"
   ]
  },
  {
   "cell_type": "markdown",
   "metadata": {
    "application/vnd.databricks.v1+cell": {
     "cellMetadata": {},
     "inputWidgets": {},
     "nuid": "974666c1-9a8c-4474-9bb9-cec78aaf3e8c",
     "showTitle": false,
     "tableResultSettingsMap": {},
     "title": ""
    }
   },
   "source": [
    "Cell-to-Tx association plot: shows cell coverage, you can see we have 7 cell coverage in 7 different colors\n",
    "\n",
    "Users are connected to cells with maximum SINR in that location, which is shown in the seconf plot. \n",
    "- brigh green means high SINR (Good)\n",
    "- dark blue means low SINR (Bad)\n",
    "\n",
    "\n",
    " you can see users assigned to each tower in Higherst SINR across all TXs plot"
   ]
  },
  {
   "cell_type": "code",
   "execution_count": 0,
   "metadata": {
    "application/vnd.databricks.v1+cell": {
     "cellMetadata": {
      "byteLimit": 2048000,
      "rowLimit": 10000
     },
     "inputWidgets": {},
     "nuid": "66fbe6be-a42f-42ee-be97-e2edb4573567",
     "showTitle": true,
     "tableResultSettingsMap": {},
     "title": "new KPIs"
    }
   },
   "outputs": [],
   "source": [
    "rm_etoile2.cdf(metric=\"sinr\", bins = 400)\n",
    "plt.xlim(-40, 75)\n",
    "rm_etoile2.cdf(metric=\"rss\", bins = 400)\n",
    "plt.xlim(-150, 25)"
   ]
  },
  {
   "cell_type": "markdown",
   "metadata": {
    "application/vnd.databricks.v1+cell": {
     "cellMetadata": {},
     "inputWidgets": {},
     "nuid": "076b1fb1-0a2e-4f63-bf56-b03e9ed2693e",
     "showTitle": false,
     "tableResultSettingsMap": {},
     "title": ""
    }
   },
   "source": [
    "Visualize CDF of received signal strength (RSS), and signal-to-interference-plus-noise ratio. \n",
    "\n",
    "\n"
   ]
  },
  {
   "cell_type": "markdown",
   "metadata": {
    "application/vnd.databricks.v1+cell": {
     "cellMetadata": {},
     "inputWidgets": {},
     "nuid": "eca9e3ac-ef16-4929-9b72-0eee38cd1495",
     "showTitle": false,
     "tableResultSettingsMap": {},
     "title": ""
    }
   },
   "source": [
    "# Conclusion \n",
    "# \n",
    "with siumulating these two config, RF optimizer can see that user experience has decreases. (CDF moved to left) thereffore it is not a good change. \n",
    "\n",
    "\n",
    "![Screenshot 2025-03-28 at 1.13.38 PM.png](./Screenshot 2025-03-28 at 1.13.38 PM.png \"Screenshot 2025-03-28 at 1.13.38 PM.png\")"
   ]
  },
  {
   "cell_type": "markdown",
   "metadata": {
    "application/vnd.databricks.v1+cell": {
     "cellMetadata": {},
     "inputWidgets": {},
     "nuid": "1084fa55-ca97-4e35-90aa-71eb093ae9b2",
     "showTitle": false,
     "tableResultSettingsMap": {},
     "title": ""
    }
   },
   "source": [
    " you can find more infomation on rate racing module here: https://nvlabs.github.io/sionna/rt/tutorials.html "
   ]
  }
 ],
 "metadata": {
  "application/vnd.databricks.v1+notebook": {
   "computePreferences": null,
   "dashboards": [],
   "environmentMetadata": {
    "base_environment": "",
    "environment_version": "2"
   },
   "inputWidgetPreferences": null,
   "language": "python",
   "notebookMetadata": {
    "pythonIndentUnit": 2
   },
   "notebookName": "simulation_RT_light",
   "widgets": {}
  },
  "language_info": {
   "name": "python"
  }
 },
 "nbformat": 4,
 "nbformat_minor": 0
}
